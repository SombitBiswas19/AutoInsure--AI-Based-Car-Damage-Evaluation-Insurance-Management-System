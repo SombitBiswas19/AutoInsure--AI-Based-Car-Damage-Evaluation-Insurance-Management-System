{
 "cells": [
  {
   "cell_type": "code",
   "execution_count": 1,
   "metadata": {},
   "outputs": [],
   "source": [
    "from IPython.display import display,Image,clear_output\n",
    "import json\n",
    "import matplotlib.pyplot as plt\n",
    "import numpy as np\n",
    "import pickle\n",
    "import os\n",
    "import seaborn as sns\n",
    "import random\n",
    "import urllib.request\n",
    "import h5py"
   ]
  },
  {
   "cell_type": "code",
   "execution_count": 3,
   "metadata": {},
   "outputs": [],
   "source": [
    "import tensorflow as tf\n",
    "from tensorflow.keras.utils import get_file\n",
    "from tensorflow.keras.applications import ResNet50, VGG16, VGG19, InceptionV3\n",
    "from tensorflow.keras.applications.imagenet_utils import preprocess_input, decode_predictions\n",
    "from tensorflow.keras.preprocessing.image import ImageDataGenerator, img_to_array, array_to_img, load_img\n",
    "from tensorflow.keras.models import save_model"
   ]
  },
  {
   "cell_type": "code",
   "execution_count": 4,
   "metadata": {},
   "outputs": [],
   "source": [
    "first_gate = VGG16(weights='imagenet')"
   ]
  },
  {
   "cell_type": "code",
   "execution_count": 8,
   "metadata": {},
   "outputs": [],
   "source": [
    "from keras.models import load_model\n",
    "second_gate = load_model(r'E:\\code\\Car_damage_evaluation\\car-damage-dataset\\data1a\\ft_model.keras')\n",
    "location_model = load_model(r'E:\\code\\Car_damage_evaluation\\car-damage-dataset\\data2a\\ft_model.keras')\n",
    "severity_model = load_model(r'E:\\code\\Car_damage_evaluation\\car-damage-dataset\\data3a\\ft_model.keras')"
   ]
  },
  {
   "cell_type": "code",
   "execution_count": 9,
   "metadata": {},
   "outputs": [
    {
     "name": "stdout",
     "output_type": "stream",
     "text": [
      "True\n"
     ]
    }
   ],
   "source": [
    "import os\n",
    "print(os.path.exists(r'E:\\code\\Car_damage_evaluation\\car-damage-dataset\\data1a\\ft_model.keras'))\n"
   ]
  },
  {
   "cell_type": "code",
   "execution_count": 10,
   "metadata": {},
   "outputs": [],
   "source": [
    "with open('vgg16_cat_list.pk','rb') as f:\n",
    "    cat_list = pickle.load(f)"
   ]
  },
  {
   "cell_type": "code",
   "execution_count": 11,
   "metadata": {},
   "outputs": [
    {
     "data": {
      "text/plain": [
       "[('n03770679', 'minivan'),\n",
       " ('n04285008', 'sports_car'),\n",
       " ('n03100240', 'convertible'),\n",
       " ('n02814533', 'beach_wagon'),\n",
       " ('n03930630', 'pickup'),\n",
       " ('n03670208', 'limousine'),\n",
       " ('n04461696', 'tow_truck'),\n",
       " ('n03594945', 'jeep'),\n",
       " ('n04037443', 'racer'),\n",
       " ('n02974003', 'car_wheel'),\n",
       " ('n03459775', 'grille'),\n",
       " ('n04252225', 'snowplow'),\n",
       " ('n03769881', 'minibus'),\n",
       " ('n02930766', 'cab'),\n",
       " ('n03796401', 'moving_van'),\n",
       " ('n03977966', 'police_van'),\n",
       " ('n03445924', 'golfcart'),\n",
       " ('n03417042', 'garbage_truck'),\n",
       " ('n02701002', 'ambulance'),\n",
       " ('n03791053', 'motor_scooter'),\n",
       " ('n03478589', 'half_track'),\n",
       " ('n02704792', 'amphibian'),\n",
       " ('n04252077', 'snowmobile'),\n",
       " ('n04467665', 'trailer_truck'),\n",
       " ('n03777568', 'Model_T'),\n",
       " ('n02965783', 'car_mirror'),\n",
       " ('n02917067', 'bullet_train'),\n",
       " ('n04065272', 'recreational_vehicle'),\n",
       " ('n03345487', 'fire_engine'),\n",
       " ('n04465501', 'tractor'),\n",
       " ('n03127747', 'crash_helmet'),\n",
       " ('n03891332', 'parking_meter'),\n",
       " ('n02747177', 'ashcan'),\n",
       " ('n04389033', 'tank'),\n",
       " ('n03649909', 'lawn_mower'),\n",
       " ('n03776460', 'mobile_home'),\n",
       " ('n02860847', 'bobsled'),\n",
       " ('n03496892', 'harvester'),\n",
       " ('n03384352', 'forklift'),\n",
       " ('n04442312', 'toaster'),\n",
       " ('n03538406', 'horse_cart'),\n",
       " ('n04258138', 'solar_dish'),\n",
       " ('n03160309', 'dam'),\n",
       " ('n04606251', 'wreck'),\n",
       " ('n04517823', 'vacuum'),\n",
       " ('n03785016', 'moped'),\n",
       " ('n04552348', 'warplane'),\n",
       " ('n04483307', 'trimaran')]"
      ]
     },
     "execution_count": 11,
     "metadata": {},
     "output_type": "execute_result"
    }
   ],
   "source": [
    "cat_list"
   ]
  },
  {
   "cell_type": "code",
   "execution_count": 12,
   "metadata": {},
   "outputs": [],
   "source": [
    "# from Keras GitHub  \n",
    "CLASS_INDEX = None\n",
    "CLASS_INDEX_PATH = 'https://s3.amazonaws.com/deep-learning-models/image-models/imagenet_class_index.json'\n",
    "\n",
    "def get_predictions(preds, top=5):\n",
    "    global CLASS_INDEX\n",
    "    if len(preds.shape) != 2 or preds.shape[1] != 1000:\n",
    "        raise ValueError('`decode_predictions` expects '\n",
    "                         'a batch of predictions '\n",
    "                         '(i.e. a 2D array of shape (samples, 1000)). '\n",
    "                         'Found array with shape: ' + str(preds.shape))\n",
    "    if CLASS_INDEX is None:\n",
    "        fpath = get_file('imagenet_class_index.json',\n",
    "                         CLASS_INDEX_PATH,\n",
    "                         cache_subdir='models')\n",
    "        CLASS_INDEX = json.load(open(fpath))\n",
    "    results = []\n",
    "    for pred in preds:\n",
    "        top_indices = pred.argsort()[-top:][::-1]\n",
    "        result = [tuple(CLASS_INDEX[str(i)]) + (pred[i],) for i in top_indices]\n",
    "        result.sort(key=lambda x: x[2], reverse=True)\n",
    "        results.append(result)\n",
    "    return results"
   ]
  },
  {
   "cell_type": "code",
   "execution_count": 13,
   "metadata": {},
   "outputs": [],
   "source": [
    "def prepare_img_244(img_path):\n",
    "    #urllib.request.urlretrieve(img_url,'save.jpg')\n",
    "    img = load_img(img_path,target_size=(224,224))\n",
    "    x = img_to_array(img)\n",
    "    x = np.expand_dims(x,axis=0)\n",
    "    x = preprocess_input(x)\n",
    "    return x"
   ]
  },
  {
   "cell_type": "code",
   "execution_count": 14,
   "metadata": {},
   "outputs": [],
   "source": [
    "def car_categories_gate(img244,model):\n",
    "    print(\"Validating that this is a picture of your car...\")\n",
    "    out = model.predict(img244)\n",
    "    top = get_predictions(out,top=5)\n",
    "    for j in top[0]:\n",
    "        if j[0:2] in cat_list:\n",
    "            # print j[0:2]\n",
    "            return True # \"Validation complete - proceed to damage evaluation\"\n",
    "    return False # \"Are you sure this is a picture of your car? \n",
    "                 # Please take another picture (try a different angle or lighting) and try again.\""
   ]
  },
  {
   "cell_type": "code",
   "execution_count": 15,
   "metadata": {},
   "outputs": [],
   "source": [
    "def prepare_img_256(img_path):\n",
    "    img = load_img(img_path,target_size=(256,256))\n",
    "    x = img_to_array(img)\n",
    "    x = x.reshape((1,)+x.shape)/255  \n",
    "    return x"
   ]
  },
  {
   "cell_type": "code",
   "execution_count": 16,
   "metadata": {},
   "outputs": [],
   "source": [
    "def car_damage_gate(img_256,model):\n",
    "    print(\"Validating that damage exists...\")\n",
    "    pred = model.predict(img_256)\n",
    "    if pred[0][0] <=.5:\n",
    "        return True # print \"Validation complete - proceed to location and severity determination\"\n",
    "    else:\n",
    "        return False\n",
    "        # print \"Are you sure that your car is damaged? Please submit another picture of the damage.\"\n",
    "        # print \"Hint: Try zooming in/out, using a different angle or different lighting\""
   ]
  },
  {
   "cell_type": "code",
   "execution_count": 17,
   "metadata": {},
   "outputs": [],
   "source": [
    "def location_assessment(img_256,model):\n",
    "    print(\"Determining location of damage...\")\n",
    "    pred = model.predict(img_256)\n",
    "    pred_label = np.argmax(pred,axis=1)\n",
    "    d = {0: 'Front', 1: 'Rear', 2: 'Side'}\n",
    "    for key in d.iterkeys():\n",
    "        if pred_label[0] == key:\n",
    "            print(\"Assessment: {} damage to vehicle\".format(d[key]))\n",
    "    print(\"Location assessment complete.\")"
   ]
  },
  {
   "cell_type": "code",
   "execution_count": 18,
   "metadata": {},
   "outputs": [],
   "source": [
    "def severity_assessment(img_256, model):\n",
    "    print(\"Determining severity of damage...\")\n",
    "    pred = model.predict(img_256)\n",
    "    pred_label = np.argmax(pred, axis=1)\n",
    "    d = {0: 'Minor', 1: 'Moderate', 2: 'Severe'}\n",
    "    for key in d.iterkeys():\n",
    "        if pred_label[0] == key:\n",
    "            print(\"Assessment: {} damage to vehicle\".format(d[key]))\n",
    "    print(\"Severity assessment complete.\")"
   ]
  },
  {
   "cell_type": "code",
   "execution_count": 20,
   "metadata": {},
   "outputs": [],
   "source": [
    "# load models\n",
    "def engine(img_path):\n",
    "    img_244 = prepare_img_244(img_path)\n",
    "    g1 = car_categories_gate(img_244,first_gate)\n",
    "    if g1 is False:\n",
    "        result = {'gate1': 'Car validation check: ', \n",
    "        'gate1_result': 0, \n",
    "        'gate1_message': {0: 'Are you sure this is a picture of your car? Please retry your submission.', \n",
    "        1: 'Hint: Try zooming in/out, using a different angle or different lighting'},\n",
    "        'gate2': None,\n",
    "        'gate2_result': None,\n",
    "        'gate2_message': {0: None, 1: None},\n",
    "        'location': None,\n",
    "        'severity': None,\n",
    "        'final': 'Damage assessment unsuccessful!'}\n",
    "        return result\n",
    "\n",
    "    img_256 = prepare_img_256(img_path)\n",
    "    g2 = car_damage_gate(img_256,second_gate)\n",
    "    if g2 is False:\n",
    "        result = {'gate1': 'Car validation check: ', \n",
    "        'gate1_result': 1, \n",
    "        'gate1_message': {0: None, 1: None},\n",
    "        'gate2': 'Damage presence check: ',\n",
    "        'gate2_result': 0,\n",
    "        'gate2_message': {0: 'Are you sure that your car is damaged? Please retry your submission.',\n",
    "        1: 'Hint: Try zooming in/out, using a different angle or different lighting.'},\n",
    "        'location': None,\n",
    "        'severity': None,\n",
    "        'final': 'Damage assessment unsuccessful!'}\n",
    "        return result\n",
    "\n",
    "    x = location_assessment(img_256,location_model)\n",
    "    y = severity_assessment(img_256,severity_model)\n",
    "\n",
    "    result = {'gate1': 'Car validation check: ', \n",
    "\t'gate1_result': 1, \n",
    "\t'gate1_message': {0: None, 1: None},\n",
    "\t'gate2': 'Damage presence check: ',\n",
    "\t'gate2_result': 1,\n",
    "\t'gate2_message': {0: None, 1: None},\n",
    "\t'location': x,\n",
    "\t'severity': y,\n",
    "\t'final': 'Damage assessment complete!'}\n",
    "    return result"
   ]
  },
  {
   "cell_type": "code",
   "execution_count": null,
   "metadata": {},
   "outputs": [],
   "source": []
  }
 ],
 "metadata": {
  "kernelspec": {
   "display_name": "myenv",
   "language": "python",
   "name": "python3"
  },
  "language_info": {
   "codemirror_mode": {
    "name": "ipython",
    "version": 3
   },
   "file_extension": ".py",
   "mimetype": "text/x-python",
   "name": "python",
   "nbconvert_exporter": "python",
   "pygments_lexer": "ipython3",
   "version": "3.12.4"
  }
 },
 "nbformat": 4,
 "nbformat_minor": 2
}
